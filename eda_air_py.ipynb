{
 "cells": [
  {
   "cell_type": "markdown",
   "metadata": {},
   "source": [
    "# Exploratory Data Analysis - Air Pollution Example\n",
    "\n",
    "\n",
    "### Goals\n",
    "\n",
    "* Assess the quantity, quality of your data.\n",
    "* Determine which features are relevant for the model\n",
    "* Is there structure in the data that needs to be modeled?"
   ]
  },
  {
   "cell_type": "code",
   "execution_count": 1,
   "metadata": {},
   "outputs": [
    {
     "ename": "ModuleNotFoundError",
     "evalue": "No module named 'numpy'",
     "output_type": "error",
     "traceback": [
      "\u001b[0;31m---------------------------------------------------------------------------\u001b[0m",
      "\u001b[0;31mModuleNotFoundError\u001b[0m                       Traceback (most recent call last)",
      "Cell \u001b[0;32mIn[1], line 4\u001b[0m\n\u001b[1;32m      1\u001b[0m \u001b[38;5;66;03m#| output: false\u001b[39;00m\n\u001b[1;32m      2\u001b[0m \u001b[38;5;66;03m# import all libraries used in this notebook\u001b[39;00m\n\u001b[1;32m      3\u001b[0m \u001b[38;5;28;01mimport\u001b[39;00m \u001b[38;5;21;01mos\u001b[39;00m\n\u001b[0;32m----> 4\u001b[0m \u001b[38;5;28;01mimport\u001b[39;00m \u001b[38;5;21;01mnumpy\u001b[39;00m \u001b[38;5;28;01mas\u001b[39;00m \u001b[38;5;21;01mnp\u001b[39;00m\n\u001b[1;32m      5\u001b[0m \u001b[38;5;28;01mimport\u001b[39;00m \u001b[38;5;21;01mpandas\u001b[39;00m \u001b[38;5;28;01mas\u001b[39;00m \u001b[38;5;21;01mpd\u001b[39;00m\n\u001b[1;32m      6\u001b[0m \u001b[38;5;28;01mimport\u001b[39;00m \u001b[38;5;21;01mgeopandas\u001b[39;00m \u001b[38;5;28;01mas\u001b[39;00m \u001b[38;5;21;01mgpd\u001b[39;00m\n",
      "\u001b[0;31mModuleNotFoundError\u001b[0m: No module named 'numpy'"
     ]
    }
   ],
   "source": [
    "#| output: false\n",
    "# import all libraries used in this notebook\n",
    "import os\n",
    "import numpy as np\n",
    "import pandas as pd\n",
    "import geopandas as gpd\n",
    "\n",
    "# plotting libs\n",
    "import matplotlib.pyplot as plt\n",
    "import plotnine as p9\n",
    "\n",
    "# suppress plotnine warnings\n",
    "import warnings\n",
    "warnings.filterwarnings('ignore')\n",
    "\n",
    "# setup plotnine look and feel\n",
    "p9.theme_set(\n",
    "  p9.theme_grey() + \n",
    "  p9.theme(text=p9.element_text(size=10),\n",
    "        plot_title=p9.element_text(size=12),\n",
    "        axis_title_x=p9.element_text(size=11),\n",
    "        axis_title_y=p9.element_text(size=11),\n",
    "        axis_text_x=p9.element_text(size=8),\n",
    "        axis_text_y=p9.element_text(size=8)\n",
    "       )\n",
    ")"
   ]
  },
  {
   "cell_type": "markdown",
   "metadata": {},
   "source": [
    "## Dataset: Exposure to particulate matter less than 2.5 microns in diameter\n",
    "\n",
    "Our goal is to build a model of ground-level air pollution, using measurements from ground monitors together\n",
    "with satellite imaging data.\n",
    "The dataset is taken from github repository: https://github.com/jgabry/bayes-vis-paper\n",
    "which contain all materials for the paper **_Visualization in Bayesian workflow_**:    \n",
    "\n",
    "Gabry, J. , Simpson, D. , Vehtari, A. , Betancourt, M. and Gelman, A. (2019),     \n",
    "Visualization in Bayesian workflow. _J. R. Stat. Soc. A_, 182: 389-402. doi:10.1111/rssa.12378\n",
    "\n",
    "* Published JRSS version: https://rss.onlinelibrary.wiley.com/doi/full/10.1111/rssa.12378\n",
    "* arXiv preprint: https://arxiv.org/pdf/1709.01449.pdf (includes Supplementary Materials in appendix)\n",
    "\n",
    "A local version of the raw data for this paper is in the `data` directory, named `GM_spdf.RData`.\n",
    "This [RDATA file](https://github.com/jgabry/bayes-vis-paper/blob/master/bayes-vis.RData) contains a single R [SpatialPointsDataFrame](https://rdrr.io/cran/sp/man/SpatialPoints.html).\n",
    "\n",
    "We have converted this to a [GeoJson](https://geojson.org) file, `data/air_spdf.geojson` which contains just the information needed for this analysis."
   ]
  },
  {
   "cell_type": "markdown",
   "metadata": {},
   "source": [
    "The dataset for this paper consists of measurements of ambient ${PM}_{2.5}$ collected from ground monitors\n",
    "together with the corresponding measurement from high-resolution satellite data for that geo-location.\n",
    "The data was collected accros 100 countries, which have been grouped into 7 categories by the World Health Organization (WHO).\n",
    "Each observation consists of the following:\n",
    "\n",
    "- 3-letter ISO country code\n",
    "- location name\n",
    "- a pair of latitude, longitude coordinates (in WGS84)\n",
    "- ${PM}_{2.5}$ measurements from ground monitors, and log(ground PM)\n",
    "- ${PM}_{2.5}$ measurements from via high-resolution satellite data, and log(satelite PM)\n",
    "- World Health Organization (WHO) super-region name\n",
    "- 6-component hierarchical clustering of ground monitor measurements\n",
    "- 6-component hierarchical clustering of log ground monitor measurements"
   ]
  },
  {
   "cell_type": "code",
   "execution_count": null,
   "metadata": {},
   "outputs": [],
   "source": [
    "pm_gdf = gpd.read_file(\"data/air_spdf.geojson\")\n",
    "pm_gdf = pm_gdf.astype({col: 'category' for col in pm_gdf.select_dtypes(['int', 'object']).columns})\n",
    "print(pm_gdf.info())"
   ]
  },
  {
   "cell_type": "code",
   "execution_count": null,
   "metadata": {},
   "outputs": [],
   "source": [
    "pm_gdf[['iso3', 'log_pm25', 'log_sat', 'super_region_name', 'cluster_region', 'cluster_log_region']][:5]"
   ]
  },
  {
   "cell_type": "markdown",
   "metadata": {},
   "source": [
    "To properly visualize the distribution of measurements around the globe we need a map which contains country boundaries.\n",
    "We have downloaded a world map shapefile (in coordinate system WGS84) from\n",
    "[Natural Earth](https://www.naturalearthdata.com/), which provides free public domain datasets.\n",
    "\n",
    "We add the per-country WHO super region names and cluster regions to the world map so that we can color countries by super region and clustered region.\n",
    "Because the air pollution dataset doesn't cover all countries, we create categories for \"NaN\" values and set them accordingly."
   ]
  },
  {
   "cell_type": "code",
   "execution_count": null,
   "metadata": {},
   "outputs": [],
   "source": [
    "world_map_gdf = gpd.read_file(\"data/ne_110m_admin_0_countries/ne_110m_admin_0_countries.shp\")\n",
    "countries = pm_gdf[['iso3','super_region_name','cluster_region']].drop_duplicates(subset=['iso3'])\n",
    "world_map_plus_gdf = world_map_gdf.merge(countries, left_on='ISO_A3', right_on='iso3', how='left')\n",
    "# add categories for unknown countries, set \"NaN\" values accordingly\n",
    "world_map_plus_gdf['cluster_region'] = world_map_plus_gdf['cluster_region'].cat.add_categories([7])\n",
    "world_map_plus_gdf['cluster_region'] = world_map_plus_gdf[['cluster_region']].fillna(7)\n",
    "world_map_plus_gdf['super_region_name'] = world_map_plus_gdf['super_region_name'].cat.add_categories(['NA'])\n",
    "world_map_plus_gdf[['super_region_name']] = world_map_plus_gdf[['super_region_name']].fillna('NA')\n"
   ]
  },
  {
   "cell_type": "markdown",
   "metadata": {},
   "source": [
    "We use this map and plot the locations of the ground monitors in this dataset, colored by super region."
   ]
  },
  {
   "cell_type": "code",
   "execution_count": null,
   "metadata": {},
   "outputs": [],
   "source": [
    "(p9.ggplot()\n",
    " + p9.geom_map(data=world_map_plus_gdf, mapping=p9.aes(fill='super_region_name'), alpha=0.2)\n",
    " + p9.geom_point(data=pm_gdf,\n",
    "                 mapping=p9.aes(x='geometry.x', y='geometry.y', color='factor(super_region_name)'), size=1)\n",
    " + p9.scale_fill_manual(['red', 'orange', 'magenta', 'green', 'purple', 'blue', 'cyan', 'ivory'])\n",
    " + p9.scale_color_manual(['red', 'orange', 'magenta', 'green', 'purple', 'blue', 'cyan', 'ivory'])\n",
    " + p9.guides(fill=False)\n",
    " + p9.labs(color='Super Region')\n",
    " + p9.theme(figure_size=(20, 10), \n",
    "            axis_text_x=p9.element_blank(), axis_text_y=p9.element_blank(),\n",
    "            axis_title_x=p9.element_blank(), axis_title_y=p9.element_blank())\n",
    ")"
   ]
  },
  {
   "cell_type": "markdown",
   "metadata": {},
   "source": [
    "Alternatively, can plot the level of $PM_{25}$ at each monitor location.  We use the midpoint of the values to visualize pollution levels from low (green) to high (red)."
   ]
  },
  {
   "cell_type": "code",
   "execution_count": null,
   "metadata": {
    "tags": []
   },
   "outputs": [],
   "source": [
    "pm_gdf[['log_pm25', 'log_sat']].describe()"
   ]
  },
  {
   "cell_type": "code",
   "execution_count": null,
   "metadata": {},
   "outputs": [],
   "source": [
    "(p9.ggplot()\n",
    " + p9.geom_map(data=world_map_plus_gdf, mapping=p9.aes(fill='super_region_name'), alpha=0.2)\n",
    " + p9.geom_point(data=pm_gdf,\n",
    "                 mapping=p9.aes(x='geometry.x', y='geometry.y', color='log_pm25'),\n",
    "                 size=1)\n",
    " + p9.scale_color_gradient2(low='green', mid='yellow', high='red', midpoint=2.8)\n",
    " + p9.scale_fill_manual(['red', 'orange', 'magenta', 'green', 'purple', 'blue', 'cyan', 'ivory'])\n",
    " + p9.theme(figure_size=(20, 10), \n",
    "            axis_text_x=p9.element_blank(), axis_text_y=p9.element_blank(),\n",
    "            axis_title_x=p9.element_blank(), axis_title_y=p9.element_blank())\n",
    ")"
   ]
  },
  {
   "cell_type": "markdown",
   "metadata": {},
   "source": [
    "## Data structure\n",
    "\n",
    "The data has two levels of grouping:  low-level grouping by country (107 countries), and high-level grouping by super-region (7 categories) or cluster-region (6 clusters)."
   ]
  },
  {
   "cell_type": "markdown",
   "metadata": {},
   "source": [
    "### Ground monitors per region"
   ]
  },
  {
   "cell_type": "code",
   "execution_count": null,
   "metadata": {
    "tags": []
   },
   "outputs": [],
   "source": [
    "(p9.ggplot()\n",
    " + p9.geom_bar(data=pm_gdf,\n",
    "                 mapping=p9.aes(x='factor(super_region_name)', fill='factor(super_region_name)'), alpha=0.8)\n",
    " + p9.scale_fill_manual(['red', 'orange', 'magenta', 'green', 'purple', 'blue', 'cyan'])\n",
    " + p9.theme(figure_size=(8, 4), axis_text_x=p9.element_blank(),\n",
    "            axis_title_x=p9.element_blank(), axis_title_y=p9.element_blank())\n",
    " + p9.ggtitle('Ground Monitors per Super Region') + p9.labs(fill='Super Region')\n",
    ")"
   ]
  },
  {
   "cell_type": "markdown",
   "metadata": {},
   "source": [
    "### Ground monitors per country\n",
    "\n",
    "The number of per-country ground monitors depends on the size, overall development, and population density of the country.  China, the US, and India dominate, followed by other high income regions."
   ]
  },
  {
   "cell_type": "code",
   "execution_count": null,
   "metadata": {},
   "outputs": [],
   "source": [
    "monitors_per_country = pm_gdf.groupby('iso3').size().sort_values(ascending=False)\n",
    "monitors_per_country.head(5)"
   ]
  },
  {
   "cell_type": "code",
   "execution_count": null,
   "metadata": {},
   "outputs": [],
   "source": [
    "pm_gdf[['iso3']].value_counts().describe()"
   ]
  },
  {
   "cell_type": "markdown",
   "metadata": {},
   "source": [
    "Of these 107 countries surveyed, the median number of monitors per country is 9.  We can visualize this distribution as a bar plot.  Is this useful?"
   ]
  },
  {
   "cell_type": "code",
   "execution_count": null,
   "metadata": {},
   "outputs": [],
   "source": [
    "(p9.ggplot()\n",
    " + p9.geom_bar(data = pm_gdf,\n",
    "                 mapping=p9.aes(x='factor(iso3)', fill='factor(super_region_name)'), alpha=0.8)\n",
    " + p9.scale_fill_manual(['red', 'orange', 'magenta', 'green', 'purple', 'blue', 'cyan'])\n",
    " + p9.theme(figure_size=(9, 4), axis_text_x=p9.element_blank())\n",
    " + p9.ggtitle('Ground Monitors per Country') + p9.xlab('country') + p9.labs(fill='Super Region')\n",
    ")"
   ]
  },
  {
   "cell_type": "markdown",
   "metadata": {},
   "source": [
    "## Plotting the relationship between ground monitors and satellite data\n",
    "\n",
    "The goal of our analysis is to use the satellite data to predict the ground-level air pollution.  On the whole, the satellite measurements are lower than the ground monitors."
   ]
  },
  {
   "cell_type": "code",
   "execution_count": null,
   "metadata": {},
   "outputs": [],
   "source": [
    "pm_gdf[['log_pm25', 'log_sat']].describe()"
   ]
  },
  {
   "cell_type": "markdown",
   "metadata": {
    "tags": []
   },
   "source": [
    "We plot the log measurements overlaid with a simple linear regression showing the 95% central interval.\n",
    "The outcome variable of interest is ground-level air pollution, therefore we plot this on the y-axis."
   ]
  },
  {
   "cell_type": "code",
   "execution_count": null,
   "metadata": {},
   "outputs": [],
   "source": [
    "# Plot all the data, color by super_region, pool all data for regression line\n",
    "(p9.ggplot(pm_gdf, p9.aes(x='log_sat', y='log_pm25', color='factor(super_region_name)'))\n",
    "    + p9.geom_point(alpha=0.5)\n",
    "    + p9.geom_smooth(method='lm', color='grey', se=True)\n",
    "    + p9.scale_color_manual(['red', 'orange', 'magenta', 'green', 'purple', 'blue', 'cyan'])\n",
    "    + p9.xlab('log satellite')\n",
    "    + p9.ylab('log ground monitor')\n",
    "    + p9.theme(figure_size=(10, 6))\n",
    "    + p9.ggtitle('satellite vs ground $PM_{2.5}$ readings, pooled regression') + p9.labs(color='Super Region')\n",
    ")"
   ]
  },
  {
   "cell_type": "code",
   "execution_count": null,
   "metadata": {},
   "outputs": [],
   "source": [
    "# Plot all the data, color by super_region, per-group regression lines\n",
    "\n",
    "(p9.ggplot(pm_gdf, p9.aes(x='log_sat', y='log_pm25', color='factor(super_region_name)', group='factor(super_region_name)'))\n",
    "    + p9.geom_point(alpha=0.5)\n",
    "    + p9.geom_smooth(method='lm', se=True)\n",
    "    + p9.scale_color_manual(['red', 'orange', 'magenta', 'green', 'purple', 'blue', 'cyan'])\n",
    "    + p9.xlab('log satellite')\n",
    "    + p9.ylab('log ground monitor')\n",
    "    + p9.theme(figure_size=(10, 6))\n",
    "    + p9.ggtitle('satellite vs ground $PM_{2.5}$ readings, super region regression') + p9.labs(color='Super Region')\n",
    ")"
   ]
  },
  {
   "cell_type": "code",
   "execution_count": null,
   "metadata": {},
   "outputs": [],
   "source": [
    "(p9.ggplot(pm_gdf, p9.aes(x='log_sat', y='log_pm25', color='factor(super_region_name)', group='factor(super_region_name)'))\n",
    "    + p9.geom_smooth(method='lm', se=True)\n",
    "    + p9.scale_color_manual(['red', 'orange', 'magenta', 'green', 'purple', 'blue', 'cyan'])\n",
    "    + p9.xlab('log Satellite 2014')\n",
    "    + p9.ylab('log PM 2.5')\n",
    "    + p9.ggtitle('satellite vs ground $PM_{2.5}$ super region regressions') + p9.labs(color='Super Region')\n",
    "    + p9.theme(figure_size=(8, 4))\n",
    ")"
   ]
  },
  {
   "cell_type": "markdown",
   "metadata": {},
   "source": [
    "As an alternative to the WHO super-regions, \n",
    "Gabry et al create a 6-component hierarchical clustering of ground monitor measurements of $PM_{2.5}$"
   ]
  },
  {
   "cell_type": "code",
   "execution_count": null,
   "metadata": {},
   "outputs": [],
   "source": [
    "pm_gdf.groupby('cluster_region')[['log_pm25']].describe()"
   ]
  },
  {
   "cell_type": "markdown",
   "metadata": {},
   "source": [
    "The clustering algorithm creates a few small regions."
   ]
  },
  {
   "cell_type": "code",
   "execution_count": null,
   "metadata": {},
   "outputs": [],
   "source": [
    "(p9.ggplot()\n",
    " + p9.geom_bar(data=pm_gdf,\n",
    "            mapping=p9.aes(x='cluster_region', fill='cluster_region'), alpha=0.8)\n",
    " + p9.theme(figure_size=(6, 4), axis_title_x=p9.element_blank(), axis_title_y=p9.element_blank(),\n",
    "            axis_text_x=p9.element_blank())\n",
    " + p9.scale_fill_manual(['red', 'orange', 'magenta', 'green', 'purple', 'cyan', 'ivory'])\n",
    " + p9.ggtitle('Ground Monitors per Cluster Region')\n",
    ")"
   ]
  },
  {
   "cell_type": "code",
   "execution_count": null,
   "metadata": {},
   "outputs": [],
   "source": [
    "(p9.ggplot()\n",
    " + p9.geom_map(data=world_map_plus_gdf, mapping=p9.aes(fill='cluster_region'), alpha=0.4)\n",
    " + p9.geom_point(data=pm_gdf,\n",
    "                 mapping=p9.aes(x='geometry.x', y='geometry.y', color='factor(cluster_region)'), size=1)\n",
    " + p9.scale_fill_manual(['red', 'orange', 'magenta', 'green', 'purple', 'cyan', 'ivory'])\n",
    " + p9.scale_color_manual(['red', 'orange', 'magenta', 'green', 'purple', 'cyan', 'ivory'])\n",
    " + p9.guides(fill=False, color=False)\n",
    " + p9.theme(figure_size=(20, 10), \n",
    "            axis_text_x=p9.element_blank(), axis_text_y=p9.element_blank(),\n",
    "            axis_title_x=p9.element_blank(), axis_title_y=p9.element_blank())\n",
    ")"
   ]
  },
  {
   "cell_type": "code",
   "execution_count": null,
   "metadata": {},
   "outputs": [],
   "source": [
    "(p9.ggplot(pm_gdf, p9.aes(x='log_sat', y='log_pm25', color='cluster_region', group='cluster_region'))\n",
    "    + p9.geom_smooth(method='lm', se=True)\n",
    "    + p9.scale_color_manual(['red', 'orange', 'magenta', 'green', 'purple', 'cyan', 'ivory'])\n",
    "    + p9.xlab('log Satellite 2014')\n",
    "    + p9.ylab('log PM 2.5')\n",
    "    + p9.ggtitle('satellite vs ground $PM_{2.5}$ cluster region regressions') + p9.labs(color='Cluster region')\n",
    "    + p9.theme(figure_size=(5, 4))\n",
    ")"
   ]
  },
  {
   "cell_type": "code",
   "execution_count": null,
   "metadata": {},
   "outputs": [],
   "source": [
    "(p9.ggplot(pm_gdf, p9.aes(x='log_sat', y='log_pm25', color='factor(super_region_name)', group='factor(super_region_name)'))\n",
    "    + p9.geom_smooth(method='lm', se=True)\n",
    "    + p9.scale_color_manual(['red', 'orange', 'magenta', 'green', 'purple', 'blue', 'cyan'])\n",
    "    + p9.xlab('log Satellite 2014')\n",
    "    + p9.ylab('log PM 2.5')\n",
    "    + p9.ggtitle('satellite vs ground $PM_{2.5}$ super region regressions') + p9.labs(color='Super Region')\n",
    "    + p9.theme(figure_size=(8, 4))\n",
    ")"
   ]
  },
  {
   "cell_type": "code",
   "execution_count": null,
   "metadata": {},
   "outputs": [],
   "source": []
  },
  {
   "cell_type": "code",
   "execution_count": null,
   "metadata": {},
   "outputs": [],
   "source": []
  },
  {
   "cell_type": "code",
   "execution_count": null,
   "metadata": {},
   "outputs": [],
   "source": []
  },
  {
   "cell_type": "code",
   "execution_count": null,
   "metadata": {},
   "outputs": [],
   "source": []
  },
  {
   "cell_type": "code",
   "execution_count": null,
   "metadata": {},
   "outputs": [],
   "source": []
  },
  {
   "cell_type": "code",
   "execution_count": null,
   "metadata": {},
   "outputs": [],
   "source": []
  },
  {
   "cell_type": "code",
   "execution_count": null,
   "metadata": {},
   "outputs": [],
   "source": []
  },
  {
   "cell_type": "code",
   "execution_count": null,
   "metadata": {},
   "outputs": [],
   "source": []
  }
 ],
 "metadata": {
  "kernelspec": {
   "display_name": "Python 3 (ipykernel)",
   "language": "python",
   "name": "python3"
  },
  "language_info": {
   "codemirror_mode": {
    "name": "ipython",
    "version": 3
   },
   "file_extension": ".py",
   "mimetype": "text/x-python",
   "name": "python",
   "nbconvert_exporter": "python",
   "pygments_lexer": "ipython3",
   "version": "3.9.16"
  }
 },
 "nbformat": 4,
 "nbformat_minor": 4
}
