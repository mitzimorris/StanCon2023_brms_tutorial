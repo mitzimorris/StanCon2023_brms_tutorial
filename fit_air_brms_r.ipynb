{
 "cells": [
  {
   "cell_type": "markdown",
   "id": "14024548-c809-4c89-98b3-7f4a50b0478d",
   "metadata": {
    "tags": []
   },
   "source": [
    "# BRMS - Air Pollution Example"
   ]
  },
  {
   "cell_type": "code",
   "execution_count": null,
   "id": "5a36dd52-bab2-41f4-89bc-4cd8eb0a8787",
   "metadata": {
    "tags": []
   },
   "outputs": [],
   "source": [
    "# import all libraries used in this notebook\n",
    "require(jsonlite)\n",
    "require(dplyr)\n",
    "require(ggplot2)\n",
    "require(brms)\n",
    "require(posterior)\n",
    "require(bayesplot)\n",
    "require(tidybayes)\n",
    "suppressMessages(library(jsonlite))\n",
    "suppressMessages(library(dplyr))\n",
    "suppressMessages(library(jsonlite))\n",
    "suppressMessages(library(ggplot2))\n",
    "suppressMessages(library(brms))\n",
    "suppressMessages(library(posterior))\n",
    "suppressMessages(library(bayesplot))\n",
    "suppressMessages(library(tidybayes))"
   ]
  },
  {
   "cell_type": "code",
   "execution_count": null,
   "id": "c7948eb1-7126-4b13-ac44-9afb2632d0b2",
   "metadata": {
    "tags": []
   },
   "outputs": [],
   "source": [
    "options(brms.backend = \"cmdstanr\")\n",
    "options(brms.normalize = FALSE)\n",
    "options(width = 100)\n",
    "options(digits=3)"
   ]
  },
  {
   "cell_type": "code",
   "execution_count": null,
   "id": "b665219a-31d6-4dfd-adf4-7387a02f7d8b",
   "metadata": {},
   "outputs": [],
   "source": [
    "library(cmdstanr)\n",
    "cmdstan_path()"
   ]
  },
  {
   "cell_type": "code",
   "execution_count": null,
   "id": "183e295d-db73-4173-9a6b-0a868f306d9f",
   "metadata": {
    "scrolled": true
   },
   "outputs": [],
   "source": [
    "# rebuild_cmdstan(cores=4)"
   ]
  },
  {
   "attachments": {},
   "cell_type": "markdown",
   "id": "4fc431ba-becc-4467-a224-98da32b4e4af",
   "metadata": {},
   "source": [
    "## Dataset: Exposure to particulate matter less than 2.5 microns in diameter\n",
    "\n",
    "The data for this model is in a JSON file, `data/pm_sites.json`.\n",
    "\n",
    "It consists of measurements of ambient ${PM}_{2.5}$ collected from ground monitors\n",
    "together with the corresponding measurement from high-resolution satellite data for that geo-location.\n",
    "The data was collected accros 100 countries, which have been grouped into 7 categories by the World Health Organization (WHO),\n",
    "and further grouped into 2 alternative clusterings.\n",
    "\n",
    "Each observation consists of the following:\n",
    "\n",
    "- 3-letter ISO country code\n",
    "- ${PM}_{2.5}$ measurements from ground monitors and corresponding log values\n",
    "- ${PM}_{2.5}$ measurements from via high-resolution satellite data and corresponding log values\n",
    "- World Health Organization (WHO) super-region name\n",
    "- 6-component hierarchical clustering of ground monitor measurements\n",
    "- 6-component hierarchical clustering of log ground monitor measurements"
   ]
  },
  {
   "cell_type": "code",
   "execution_count": null,
   "id": "bd8a3cb5-7a0d-4fbd-90f7-4521a7250c56",
   "metadata": {},
   "outputs": [],
   "source": [
    "library(jsonlite)\n",
    "sites_json = fromJSON(\"data/pm_sites.json\")\n",
    "sites = as.data.frame(sites_json)\n",
    "head(sites)"
   ]
  },
  {
   "cell_type": "markdown",
   "id": "51e23386-7e62-41c9-8ae9-3e35033ef46b",
   "metadata": {},
   "source": [
    "## First BRMS model:  simple linear regression"
   ]
  },
  {
   "cell_type": "code",
   "execution_count": null,
   "id": "9e11e44b-fe4e-4e46-8955-c77a5838da99",
   "metadata": {},
   "outputs": [],
   "source": [
    "fit_complete_pool = brm(log_pm25 ~ 1 + log_sat, data=sites, cores=4, refresh=0)"
   ]
  },
  {
   "cell_type": "markdown",
   "id": "262baa6c-4b39-45ac-adc1-dbe928ab6701",
   "metadata": {},
   "source": [
    "The fitted model oject's print method provides information about the model and fitted parameters."
   ]
  },
  {
   "cell_type": "code",
   "execution_count": null,
   "id": "5032fbe3-f4af-4d8a-b4cd-96a31bcdab35",
   "metadata": {},
   "outputs": [],
   "source": [
    "fit_complete_pool"
   ]
  },
  {
   "cell_type": "markdown",
   "id": "7adbfd65-deaa-4791-88bc-ffa8af88ae45",
   "metadata": {},
   "source": [
    "View model variable names and estimates:  `variables`, `posterior_summary`"
   ]
  },
  {
   "cell_type": "code",
   "execution_count": null,
   "id": "c8bdb249-0976-40f5-a94f-c52ea1095595",
   "metadata": {},
   "outputs": [],
   "source": [
    "variables(fit_complete_pool)\n",
    "posterior_summary(fit_complete_pool)"
   ]
  },
  {
   "cell_type": "markdown",
   "id": "8b9a0642-861a-448c-92f5-417d83eb053e",
   "metadata": {},
   "source": [
    "Plot posterior density of population-level parameters and post-warmup trace plots."
   ]
  },
  {
   "cell_type": "code",
   "execution_count": null,
   "id": "3659a6be-146a-4818-8595-2a193491beb7",
   "metadata": {},
   "outputs": [],
   "source": [
    "plot(fit_complete_pool)"
   ]
  },
  {
   "cell_type": "markdown",
   "id": "543ddf20-1318-4e75-a16c-3a529c867c38",
   "metadata": {},
   "source": [
    "Inspect the specified prior: `prior_summary`"
   ]
  },
  {
   "cell_type": "code",
   "execution_count": null,
   "id": "6f705a5d-7f75-41a3-ae19-88787dfcc78f",
   "metadata": {},
   "outputs": [],
   "source": [
    "prior_summary(fit_complete_pool)"
   ]
  },
  {
   "cell_type": "markdown",
   "id": "b3b3bd0d-262d-4801-9801-362cedacdda3",
   "metadata": {},
   "source": [
    "BRMS creates the input data from dataframe `sites`."
   ]
  },
  {
   "cell_type": "code",
   "execution_count": null,
   "id": "d2d388d3-80f3-4f96-a0e5-81da45ced7a8",
   "metadata": {},
   "outputs": [],
   "source": [
    "standata_complete_pool = standata(fit_complete_pool)\n",
    "\n",
    "print(names(standata_complete_pool))\n",
    "names_list <- names(standata_complete_pool)\n",
    "invisible(lapply(names_list, function(x) {\n",
    "cat(\"Element Name: \", x, \"\\n\")\n",
    "cat(str(standata_complete_pool[[x]]), \"\\n\")\n",
    "}))"
   ]
  },
  {
   "cell_type": "markdown",
   "id": "28b396bc-b561-4dea-a984-5eb94e15bc27",
   "metadata": {},
   "source": [
    "At the same time, BRMS generates a Stan model."
   ]
  },
  {
   "cell_type": "code",
   "execution_count": null,
   "id": "dcbc7297-88a2-4d67-aad4-bfb483d9c41c",
   "metadata": {},
   "outputs": [],
   "source": [
    "stan_complete_pool = stancode(fit_complete_pool)\n",
    "cat(stan_complete_pool)"
   ]
  },
  {
   "cell_type": "markdown",
   "id": "5f167f90-cea7-4a11-ad58-b9f514cc21bc",
   "metadata": {},
   "source": [
    "#### Transformed Data and Population-level Intercept\n",
    "\n",
    "https://vasishth.github.io/bayescogsci/book/ch-reg.html#thm:intercept\n",
    "\n",
    "> \"brms increases sampling efficiency by automatically centering all the predictors internally (that is the population-level design matrix $X$ is internally centered around its column means when brms fits a model)\n",
    "\n",
    "In a regression, the intercept is the value of the outcome when all predictors are 0. Because the data is centered on zero, the prior on the intercept has location \"2.8\" (mean value of `log_sat`).\n",
    "\n",
    "See https://paul-buerkner.github.io/brms/reference/brmsformula.html, section \"Parameterization of the population-level intercept\".\n"
   ]
  },
  {
   "cell_type": "code",
   "execution_count": null,
   "id": "70e433b7-cb41-43c2-a5e3-851921324e79",
   "metadata": {},
   "outputs": [],
   "source": [
    "round(mean(sites$log_sat), 2)"
   ]
  },
  {
   "cell_type": "markdown",
   "id": "443938ad-b972-4347-8180-48f1451d164c",
   "metadata": {},
   "source": [
    "To override zero-centering of the data, specify the Intercept explicitly in the formula:  `0 + Intercept`"
   ]
  },
  {
   "cell_type": "code",
   "execution_count": null,
   "id": "0a3581ef-5d2f-45f9-b621-f58db77c5d2b",
   "metadata": {},
   "outputs": [],
   "source": [
    "fit_complete_pool_data_asis = brm(log_pm25 ~ 0 + Intercept + log_sat, data=sites, cores=4, refresh=0, seed=234098)"
   ]
  },
  {
   "cell_type": "markdown",
   "id": "dc741ecb-1c33-4b1b-89a9-7fa0ad4359cd",
   "metadata": {},
   "source": [
    "How does this compare with formula:  `log_pm25 ~ 1 + log_sat`  (which is equivalent to `log_pm25 ~ log_sat`)?"
   ]
  },
  {
   "cell_type": "code",
   "execution_count": null,
   "id": "71b3b2fc-748e-410b-9bbc-321e45988c0b",
   "metadata": {},
   "outputs": [],
   "source": [
    "fit_complete_pool"
   ]
  },
  {
   "cell_type": "code",
   "execution_count": null,
   "id": "276fd500-c96e-497a-bdd2-9c42b78e4973",
   "metadata": {
    "scrolled": true
   },
   "outputs": [],
   "source": [
    "fit_complete_pool_data_asis"
   ]
  },
  {
   "cell_type": "markdown",
   "id": "2d54fcfe-fa5f-42f6-8e2e-a759897888db",
   "metadata": {},
   "source": [
    "What are the default priors used?"
   ]
  },
  {
   "cell_type": "code",
   "execution_count": null,
   "id": "abdef35c-6f5f-4d00-a823-0b667b19cfb3",
   "metadata": {},
   "outputs": [],
   "source": [
    "prior_summary(fit_complete_pool)"
   ]
  },
  {
   "cell_type": "code",
   "execution_count": null,
   "id": "aedc8912-9982-4fd3-94ef-eb5313e22fdc",
   "metadata": {},
   "outputs": [],
   "source": [
    "prior_summary(fit_complete_pool_data_asis)"
   ]
  },
  {
   "cell_type": "markdown",
   "id": "710cb5be-9987-4844-be60-7ba35e34a8cb",
   "metadata": {},
   "source": [
    "Does this affect the estimates?"
   ]
  },
  {
   "cell_type": "code",
   "execution_count": null,
   "id": "5187970e-1f27-4ff6-9a02-b58ab059beeb",
   "metadata": {},
   "outputs": [],
   "source": [
    "posterior_summary(fit_complete_pool)"
   ]
  },
  {
   "cell_type": "code",
   "execution_count": null,
   "id": "87c3c213-970a-48b3-abaa-ccabf0f8851f",
   "metadata": {},
   "outputs": [],
   "source": [
    "posterior_summary(fit_complete_pool_data_asis)"
   ]
  },
  {
   "cell_type": "markdown",
   "id": "bc471185-7d06-451f-8a21-3d7170c5aace",
   "metadata": {},
   "source": [
    "#### Specify weakly informative priors"
   ]
  },
  {
   "cell_type": "code",
   "execution_count": null,
   "id": "118dac94-3fc5-4ba7-ac5d-8d74c5d35020",
   "metadata": {},
   "outputs": [],
   "source": [
    "fit_complete_pool_wi_priors = brm(log_pm25 ~ 1 + log_sat, data=sites, cores=4, refresh=0, seed=234098,\n",
    "    prior = c(\n",
    "    prior(normal(0, 2.5), class = Intercept),\n",
    "    prior(normal(0, 2.5), class = sigma),\n",
    "    prior(normal(0, 2.5), class = b))\n",
    "    )"
   ]
  },
  {
   "cell_type": "code",
   "execution_count": null,
   "id": "e4cf17ac-86ab-41ea-8c75-b90b75eda4b6",
   "metadata": {},
   "outputs": [],
   "source": [
    "fit_complete_pool_wi_priors"
   ]
  },
  {
   "cell_type": "code",
   "execution_count": null,
   "id": "d2e4c4b0-221d-4c4f-8426-4ce258d6f9dd",
   "metadata": {},
   "outputs": [],
   "source": [
    "prior_summary(fit_complete_pool_wi_priors)"
   ]
  },
  {
   "cell_type": "code",
   "execution_count": null,
   "id": "0b8f585f-0dc5-4678-9468-6ec114ca8b21",
   "metadata": {},
   "outputs": [],
   "source": [
    "plot(fit_complete_pool_wi_priors)"
   ]
  },
  {
   "cell_type": "markdown",
   "id": "825de292-6d94-463d-bfb3-85efd3c667bd",
   "metadata": {},
   "source": [
    "Does this affect the estimates?"
   ]
  },
  {
   "cell_type": "code",
   "execution_count": null,
   "id": "bfd672e2-7410-4cfd-aeab-1146dec31900",
   "metadata": {},
   "outputs": [],
   "source": [
    "summary(fit_complete_pool)"
   ]
  },
  {
   "cell_type": "code",
   "execution_count": null,
   "id": "3a45e2dc-44c8-478c-b6f2-54f27b065cc2",
   "metadata": {},
   "outputs": [],
   "source": [
    "summary(fit_complete_pool_wi_priors)"
   ]
  },
  {
   "cell_type": "code",
   "execution_count": null,
   "id": "9a2e2b54-bc47-403a-b700-34a40dae591a",
   "metadata": {},
   "outputs": [],
   "source": [
    "stan_wi_priors = stancode(fit_complete_pool_wi_priors)\n",
    "cat(stan_wi_priors)"
   ]
  },
  {
   "cell_type": "markdown",
   "id": "e20d167c-88d9-4a9d-a9f5-03e2cf78f152",
   "metadata": {},
   "source": [
    "## Second BRMS model:  hierarchical linear regression\n",
    "\n",
    "We specify a hierarchical linear regresson, observations grouped according to grouping factor, varying-slope, varying-intercept.\n",
    "\n",
    "After trial-and-error, we have determined the sampler settings for NUTS-HMC which obtain a satisfactory fit."
   ]
  },
  {
   "cell_type": "code",
   "execution_count": null,
   "id": "b4ea2c64-2423-455a-9b56-1bc5e9ff2dcb",
   "metadata": {},
   "outputs": [],
   "source": [
    "fit_super_region = brm(log_pm25 ~ 1 + log_sat + (1 + log_sat | super_region_name),\n",
    "                       warmup=400, iter=900, data=sites, cores=4, \n",
    "                       max_treedepth=12, adapt_delta=0.9, refresh=200, seed=234098)\n"
   ]
  },
  {
   "cell_type": "code",
   "execution_count": null,
   "id": "677bc33b-1e90-4e43-9fc5-22007aa3a5d1",
   "metadata": {},
   "outputs": [],
   "source": [
    "summary(fit_super_region)"
   ]
  },
  {
   "cell_type": "code",
   "execution_count": null,
   "id": "6debf706-d93a-4558-93b6-c3ef506a81b5",
   "metadata": {},
   "outputs": [],
   "source": [
    "stan_super_region=stancode(fit_super_region)\n",
    "cat(stan_super_region)"
   ]
  },
  {
   "cell_type": "markdown",
   "id": "a1e7b592-0546-441f-a7af-74f41c0ee7d5",
   "metadata": {},
   "source": [
    "BRMS method `posterior_epred` [Expected Values of the Posterior Predictive Distribution](http://paul-buerkner.github.io/brms/reference/posterior_epred.brmsfit.html)  \n",
    "\n",
    ">Compute posterior draws of the expected value/mean of the posterior predictive distribution. Can be performed for the data used to fit the model (posterior predictive checks) or for new data. By definition, these predictions have smaller variance than the posterior predictions performed by the posterior_predict.brmsfit method"
   ]
  },
  {
   "cell_type": "code",
   "execution_count": null,
   "id": "045c243c-fa01-4c26-8abd-70c054e63d54",
   "metadata": {},
   "outputs": [],
   "source": [
    "options(repr.plot.width = 20, repr.plot.height = 12)\n",
    "sites %>% group_by(super_region_name) %>% add_epred_draws(fit_super_region) %>%\n",
    "ggplot(aes(x = log_sat, y = log_pm25, color = factor(super_region_name))) + stat_lineribbon(aes(y = .epred)) +\n",
    "geom_point(data = sites, alpha=0.5) +\n",
    "scale_fill_brewer(palette = \"Greys\") + guides(fill=\"none\")"
   ]
  },
  {
   "cell_type": "code",
   "execution_count": null,
   "id": "ef3a9641-0e34-4e25-b4ef-46863ff22368",
   "metadata": {},
   "outputs": [],
   "source": [
    "sites %>% group_by(super_region_name) %>% add_predicted_draws(fit_super_region) %>%\n",
    "ggplot(aes(x = log_sat, y = log_pm25, color = factor(super_region_name))) + stat_lineribbon(aes(y = .prediction)) +\n",
    "geom_point(data = sites, alpha=0.1) +\n",
    "scale_fill_brewer(palette = \"Greys\") + guides(fill=\"none\") + facet_wrap(~ super_region_name)"
   ]
  },
  {
   "cell_type": "markdown",
   "id": "62bcad8c-83da-4cb0-a172-da289e2ae3dc",
   "metadata": {},
   "source": [
    "## Alternative groupings\n",
    "\n",
    "Instead of grouping by WHO region, we use the hierarchical clustering method proposed by Gabry et al (\"model 3\")"
   ]
  },
  {
   "cell_type": "code",
   "execution_count": null,
   "id": "52914501-528d-4aea-a180-8e309a110ae8",
   "metadata": {},
   "outputs": [],
   "source": [
    "fit_cluster_region = brm(log_pm25 ~ 1 + log_sat + (1 + log_sat | cluster_region),\n",
    "                       warmup=400, iter=900, data=sites, cores=4, \n",
    "                       max_treedepth=12, adapt_delta=0.9, refresh=200, seed=234098)\n"
   ]
  },
  {
   "cell_type": "code",
   "execution_count": null,
   "id": "38d777c6-dc84-4f85-943c-fa33aeb541ed",
   "metadata": {},
   "outputs": [],
   "source": [
    "sites %>% group_by(cluster_region) %>% add_predicted_draws(fit_cluster_region) %>%\n",
    "ggplot(aes(x = log_sat, y = log_pm25)) + stat_lineribbon(aes(y = .prediction)) +\n",
    "geom_point(data = sites, alpha=0.2, color=\"blue\") +\n",
    "scale_fill_brewer(palette = \"Greys\") + guides(fill=\"none\") + facet_wrap(~ cluster_region)"
   ]
  },
  {
   "cell_type": "code",
   "execution_count": null,
   "id": "9461f353-46c7-4e03-9ea9-b0f9b32a74ae",
   "metadata": {},
   "outputs": [],
   "source": [
    "fit_cluster_log_region = brm(log_pm25 ~ 1 + log_sat + (1 + log_sat | cluster_log_region),\n",
    "                       warmup=400, iter=900, data=sites, cores=4, \n",
    "                       max_treedepth=12, adapt_delta=0.9, refresh=200, seed=234098)"
   ]
  },
  {
   "cell_type": "code",
   "execution_count": null,
   "id": "b4309dc5-a25f-4363-9648-10030988f83b",
   "metadata": {},
   "outputs": [],
   "source": [
    "sites %>% group_by(cluster_region) %>% add_predicted_draws(fit_cluster_log_region) %>%\n",
    "ggplot(aes(x = log_sat, y = log_pm25)) +\n",
    "       stat_lineribbon(aes(y = .prediction)) +\n",
    "       geom_point(data = sites, alpha=0.2, color=\"blue\") +\n",
    "       scale_fill_brewer(palette = \"Greys\") +\n",
    "       facet_wrap(~ cluster_log_region)"
   ]
  },
  {
   "cell_type": "markdown",
   "id": "88873396-5533-4fe9-87a5-0eab3a46e372",
   "metadata": {},
   "source": [
    "## LOO\n",
    "\n",
    "How do our fitted models compare?"
   ]
  },
  {
   "cell_type": "code",
   "execution_count": null,
   "id": "75e05884-9870-4205-b1eb-7b97f5f47b3a",
   "metadata": {},
   "outputs": [],
   "source": [
    "(loo_complete = loo(fit_complete_pool))"
   ]
  },
  {
   "cell_type": "code",
   "execution_count": null,
   "id": "65ab8dc0-d17b-4964-8fa0-b2a615b7245f",
   "metadata": {},
   "outputs": [],
   "source": [
    "(loo_super_region = loo(fit_super_region))"
   ]
  },
  {
   "cell_type": "code",
   "execution_count": null,
   "id": "3f66957d-8561-4bdd-9103-1dc2399767e5",
   "metadata": {},
   "outputs": [],
   "source": [
    "(loo_cluster_region = loo(fit_cluster_region))\n",
    "(loo_cluster_log_region = loo(fit_cluster_log_region))"
   ]
  },
  {
   "cell_type": "code",
   "execution_count": null,
   "id": "2d7d507b-508f-4f82-81ec-bdde6709e492",
   "metadata": {},
   "outputs": [],
   "source": [
    "loo_compare(loo_complete, loo_super_region, loo_cluster_region, loo_cluster_log_region)"
   ]
  },
  {
   "cell_type": "code",
   "execution_count": null,
   "id": "1c955ee3-4c0b-4329-a153-a0e042e6c92f",
   "metadata": {},
   "outputs": [],
   "source": []
  }
 ],
 "metadata": {
  "kernelspec": {
   "display_name": "R",
   "language": "R",
   "name": "ir"
  },
  "language_info": {
   "codemirror_mode": "r",
   "file_extension": ".r",
   "mimetype": "text/x-r-source",
   "name": "R",
   "pygments_lexer": "r",
   "version": "4.2.2"
  }
 },
 "nbformat": 4,
 "nbformat_minor": 5
}
